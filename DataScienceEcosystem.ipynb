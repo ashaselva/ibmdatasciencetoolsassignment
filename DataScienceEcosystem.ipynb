{
 "cells": [
  {
   "cell_type": "markdown",
   "id": "6e19bb79-d6e7-4091-bdd3-202984bb0075",
   "metadata": {},
   "source": [
    "# Data Science Tools and Ecosystem"
   ]
  },
  {
   "cell_type": "markdown",
   "id": "5a7eeefc-4706-4ec7-a77b-e46aaa458238",
   "metadata": {},
   "source": [
    "In this notebook, Data Science Tools and Ecosystem are summarized."
   ]
  },
  {
   "cell_type": "markdown",
   "id": "5da0d58e-8ce8-445f-bbd6-344a96941715",
   "metadata": {},
   "source": [
    "Some of the popular languages that Data Scientists use are:\n",
    "\n",
    "1. R\n",
    "2. Python\n",
    "3. C++\n",
    "4. Java"
   ]
  },
  {
   "cell_type": "markdown",
   "id": "c9cd2809-151b-44bd-9474-4dcea5458e86",
   "metadata": {},
   "source": [
    "Some of the commonly used libraries used by Data Scientists include:\n",
    "\n",
    "1. Pandas\n",
    "2. Matplotlib\n",
    "3. Numpy\n",
    "4. Plotly"
   ]
  },
  {
   "cell_type": "markdown",
   "id": "bcb712be-9c19-4bbc-843b-785df2adba65",
   "metadata": {},
   "source": [
    "Data Science Tools |\n",
    "-----\n",
    "RStudio\n",
    "ApacheSpark\n",
    "TensorFlow"
   ]
  },
  {
   "cell_type": "markdown",
   "id": "8be91bc8-0f5e-46d9-93cb-68114d4e87ec",
   "metadata": {},
   "source": [
    "### Below are a few examples of evaluating arithmetic expressions in Python."
   ]
  },
  {
   "cell_type": "code",
   "execution_count": 1,
   "id": "ecaf2be8-3bef-4a51-80a0-d78852794318",
   "metadata": {
    "tags": []
   },
   "outputs": [
    {
     "data": {
      "text/plain": [
       "17"
      ]
     },
     "execution_count": 1,
     "metadata": {},
     "output_type": "execute_result"
    }
   ],
   "source": [
    "# This is a simple arithmetic expression to mutiply then add integers\n",
    "(3*4) + 5"
   ]
  },
  {
   "cell_type": "code",
   "execution_count": 2,
   "id": "5fe1adf5-ebe1-4ed3-a7e4-d478a022d060",
   "metadata": {
    "tags": []
   },
   "outputs": [
    {
     "data": {
      "text/plain": [
       "3.3333333333333335"
      ]
     },
     "execution_count": 2,
     "metadata": {},
     "output_type": "execute_result"
    }
   ],
   "source": [
    "# This will convert 200 minutes to hours by dividing by 60\n",
    "\n",
    "200/60"
   ]
  },
  {
   "cell_type": "markdown",
   "id": "56fec294-6b43-441d-a561-75a29d8871e1",
   "metadata": {},
   "source": [
    "**Objectives:**\n",
    "- List popular languages for Data Science\n",
    "- List popular libraries for Data Science\n",
    "- List popular open source Data Science Tools\n",
    "- Use markdown cells"
   ]
  },
  {
   "cell_type": "markdown",
   "id": "f4e31514-6b95-4921-aa78-dd9f45ad98ac",
   "metadata": {},
   "source": [
    "## Author\n",
    "Asha"
   ]
  },
  {
   "cell_type": "code",
   "execution_count": null,
   "id": "06614491-d2e5-488d-aefa-a703e39dbad2",
   "metadata": {},
   "outputs": [],
   "source": []
  }
 ],
 "metadata": {
  "kernelspec": {
   "display_name": "Python",
   "language": "python",
   "name": "conda-env-python-py"
  },
  "language_info": {
   "codemirror_mode": {
    "name": "ipython",
    "version": 3
   },
   "file_extension": ".py",
   "mimetype": "text/x-python",
   "name": "python",
   "nbconvert_exporter": "python",
   "pygments_lexer": "ipython3",
   "version": "3.7.12"
  }
 },
 "nbformat": 4,
 "nbformat_minor": 5
}
